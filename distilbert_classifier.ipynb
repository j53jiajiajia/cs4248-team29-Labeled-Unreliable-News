{
 "cells": [
  {
   "cell_type": "markdown",
   "metadata": {},
   "source": [
    "## Important notes: \n",
    "Before running this code, please ensures that you have set up the following directory structure:\n",
    "```\n",
    "/root\n",
    "  |-- distilbert_classifier.ipynb\n",
    "  |-- /dataset\n",
    "    |-- train.csv\n",
    "    |-- test.csv\n",
    "```"
   ]
  },
  {
   "cell_type": "code",
   "execution_count": 1,
   "metadata": {},
   "outputs": [],
   "source": [
    "# Import common libraries.\n",
    "import numpy as np\n",
    "import pandas as pd\n",
    "\n",
    "from sklearn import metrics\n",
    "\n",
    "from tqdm import tqdm\n",
    "\n",
    "import matplotlib.pyplot as plt"
   ]
  },
  {
   "cell_type": "markdown",
   "metadata": {},
   "source": [
    "## Loading Dataset\n",
    "Thank you Daren for preparing the dataset!"
   ]
  },
  {
   "cell_type": "code",
   "execution_count": 2,
   "metadata": {},
   "outputs": [
    {
     "data": {
      "text/plain": [
       "((34040, 5), (8510, 5))"
      ]
     },
     "execution_count": 2,
     "metadata": {},
     "output_type": "execute_result"
    }
   ],
   "source": [
    "# Load the data from the dataset\n",
    "original_training_df = pd.read_csv(\"./dataset/train.csv\")\n",
    "original_testing_df = pd.read_csv(\"./dataset/test.csv\")\n",
    "\n",
    "original_training_df.shape, original_testing_df.shape"
   ]
  },
  {
   "cell_type": "markdown",
   "metadata": {},
   "source": [
    "### (Optional) Studying the dataset\n",
    "Maximum tokenized sentence length supported for `DistilBERT` is `512` words. We can make the tokenizer truncate automatically for us, but it would be nice to truncate even more to help speed up the training process. Daren has also provided us with statistics of the dataset such as min, max and mean lengths, but let's plot a histogram and also identify the quartiles to find a safer boundary."
   ]
  },
  {
   "cell_type": "code",
   "execution_count": 3,
   "metadata": {},
   "outputs": [
    {
     "data": {
      "image/png": "[encoded data removed]",
      "text/plain": [
       "<Figure size 640x480 with 1 Axes>"
      ]
     },
     "metadata": {},
     "output_type": "display_data"
    },
    {
     "data": {
      "text/plain": [
       "array([1.000e+00, 7.100e+01, 2.180e+02, 4.150e+02, 7.033e+03])"
      ]
     },
     "execution_count": 3,
     "metadata": {},
     "output_type": "execute_result"
    }
   ],
   "source": [
    "document_len = [len(document.split()) for document in original_training_df[\"Document\"]]\n",
    "pd.Series(document_len).hist(bins=50)\n",
    "# plt.xlim([0, 1000])\n",
    "plt.xlabel('Length of the document')\n",
    "plt.ylabel('Number of documents')\n",
    "plt.show()\n",
    "\n",
    "np.quantile(document_len, [0, 0.25, 0.5, 0.75, 1])"
   ]
  },
  {
   "cell_type": "markdown",
   "metadata": {},
   "source": [
    "Unfortunately, it seems that quite a bit of documents (almost a whole quartile) have lengths that lie beyond the maximum sequence length."
   ]
  },
  {
   "cell_type": "markdown",
   "metadata": {},
   "source": [
    "## Pre-processing dataset"
   ]
  },
  {
   "cell_type": "markdown",
   "metadata": {},
   "source": [
    "### Splitting the dataset\n",
    "We will split the dataset into 85/15 (training/validation) which will yield a validation set of 5,000+ sampels."
   ]
  },
  {
   "cell_type": "code",
   "execution_count": 3,
   "metadata": {},
   "outputs": [
    {
     "name": "stdout",
     "output_type": "stream",
     "text": [
      "Size of training set: 28934\n",
      "Size of validation set: 5106\n",
      "Size of test set: 8510\n"
     ]
    }
   ],
   "source": [
    "# Splitting dataset into training/validation/test set with 70/15/15 ratio.\n",
    "from sklearn.model_selection import train_test_split\n",
    "\n",
    "# Splitting to training/validation set.\n",
    "X_train, X_val, Y_train, Y_val = train_test_split(original_training_df[\"Document\"], original_training_df[\"Label\"], \n",
    "                                                                 test_size=0.15,\n",
    "                                                                 random_state=4248,\n",
    "                                                                 stratify=original_training_df[\"Label\"])\n",
    "\n",
    "# Also load prepare the test set.\n",
    "# Random sample to reduce testing size\n",
    "# original_testing_df = original_testing_df.sample(frac=0.5, random_state=4248)\n",
    "X_test = original_testing_df[\"Document\"]\n",
    "Y_test = original_testing_df[\"Label\"]\n",
    "\n",
    "print(\"Size of training set: {}\".format(len(X_train)))\n",
    "print(\"Size of validation set: {}\".format(len(X_val)))\n",
    "print(\"Size of test set: {}\".format(len(X_test)))"
   ]
  },
  {
   "cell_type": "markdown",
   "metadata": {},
   "source": [
    "### DistilBERT Tokenizer\n",
    "We will be using `DistilBert` model, load a suitable tokenizer from Hugging Face's `transformers` library."
   ]
  },
  {
   "cell_type": "code",
   "execution_count": 4,
   "metadata": {},
   "outputs": [],
   "source": [
    "from transformers import AutoTokenizer\n",
    "\n",
    "tokenizer = AutoTokenizer.from_pretrained(\"distilbert-base-uncased\", truncation=True, do_lower_case=True, use_fast=True)  # remove use_fast argument if it throws an error"
   ]
  },
  {
   "cell_type": "markdown",
   "metadata": {},
   "source": [
    "Trying out the tokenizer to understand how it works:"
   ]
  },
  {
   "cell_type": "code",
   "execution_count": 6,
   "metadata": {},
   "outputs": [
    {
     "name": "stdout",
     "output_type": "stream",
     "text": [
      "WASHINGTON (Reuters) - U.S. Secretary of State Rex Tillerson will travel to the Philippines, Thailand and Malaysia Aug. 5 to Aug. 9, the State Department said on Tuesday. Tillerson will participate in meetings of diplomats of the Association of Southeast Asian Nations in Manila, and discuss “denuclearization of the Korean Peninsula, maritime security, and counterterrorism,” the State Department said. In Thailand, Tillerson will pay his respects to the late King Bhumibol Adulyadej, who died in 2016, and discuss the U.S.-Thai relationship with officials there. In Malaysia, he will discuss bilateral relations with officials. “Secretary Tillerson’s travel reaffirms the Administration’s commitment to further broaden and enhance U.S. economic and security interests in the Asia-Pacific region,” the State Department said. \n"
     ]
    },
    {
     "data": {
      "text/plain": [
       "{'input_ids': [101, 2899, 1006, 26665, 1007, 1011, 1057, 1012, 1055, 1012, 3187, 1997, 2110, 10151, 6229, 18617, 2097, 3604, 2000, 1996, 5137, 1010, 6504, 1998, 6027, 15476, 1012, 1019, 2000, 15476, 1012, 1023, 1010, 1996, 2110, 2533, 2056, 2006, 9857, 1012, 6229, 18617, 2097, 5589, 1999, 6295, 1997, 23473, 1997, 1996, 2523, 1997, 4643, 4004, 3741, 1999, 9011, 1010, 1998, 6848, 1523, 7939, 14194, 19738, 26910, 1997, 1996, 4759, 6000, 1010, 7803, 3036, 1010, 1998, 4675, 3334, 29165, 2964, 1010, 1524, 1996, 2110, 2533, 2056, 1012, 1999, 6504, 1010, 6229, 18617, 2097, 3477, 2010, 17475, 2000, 1996, 2397, 2332, 1038, 28600, 12322, 4747, 4748, 5313, 25152, 20518, 1010, 2040, 2351, 1999, 2355, 1010, 1998, 6848, 1996, 1057, 1012, 1055, 1012, 1011, 7273, 3276, 2007, 4584, 2045, 1012, 1999, 6027, 1010, 2002, 2097, 6848, 17758, 4262, 2007, 4584, 1012, 1523, 3187, 6229, 18617, 1521, 1055, 3604, 2128, 10354, 27972, 2015, 1996, 3447, 1521, 1055, 8426, 2000, 2582, 5041, 2368, 1998, 11598, 1057, 1012, 1055, 1012, 3171, 1998, 3036, 5426, 1999, 1996, 4021, 1011, 3534, 2555, 1010, 1524, 1996, 2110, 2533, 2056, 1012, 102], 'attention_mask': [1, 1, 1, 1, 1, 1, 1, 1, 1, 1, 1, 1, 1, 1, 1, 1, 1, 1, 1, 1, 1, 1, 1, 1, 1, 1, 1, 1, 1, 1, 1, 1, 1, 1, 1, 1, 1, 1, 1, 1, 1, 1, 1, 1, 1, 1, 1, 1, 1, 1, 1, 1, 1, 1, 1, 1, 1, 1, 1, 1, 1, 1, 1, 1, 1, 1, 1, 1, 1, 1, 1, 1, 1, 1, 1, 1, 1, 1, 1, 1, 1, 1, 1, 1, 1, 1, 1, 1, 1, 1, 1, 1, 1, 1, 1, 1, 1, 1, 1, 1, 1, 1, 1, 1, 1, 1, 1, 1, 1, 1, 1, 1, 1, 1, 1, 1, 1, 1, 1, 1, 1, 1, 1, 1, 1, 1, 1, 1, 1, 1, 1, 1, 1, 1, 1, 1, 1, 1, 1, 1, 1, 1, 1, 1, 1, 1, 1, 1, 1, 1, 1, 1, 1, 1, 1, 1, 1, 1, 1, 1, 1, 1, 1, 1, 1, 1, 1, 1, 1, 1, 1, 1, 1, 1, 1, 1, 1, 1, 1, 1, 1]}"
      ]
     },
     "execution_count": 6,
     "metadata": {},
     "output_type": "execute_result"
    }
   ],
   "source": [
    "sample_document = original_testing_df[\"Document\"][0]\n",
    "print(sample_document)\n",
    "tokenizer(sample_document)"
   ]
  },
  {
   "cell_type": "markdown",
   "metadata": {},
   "source": [
    "Tokenize the training and testing set:"
   ]
  },
  {
   "cell_type": "code",
   "execution_count": 5,
   "metadata": {},
   "outputs": [],
   "source": [
    "# Dataset exploration reveals that significant portion of documents have lengths exceeding the maximum sequence length.\n",
    "# Should truncate as less as possible, but adjust MAX_LENGTH if needed.\n",
    "MAX_LENGTH = 512\n",
    "\n",
    "# Tokenizing the training set.\n",
    "training_tokens = tokenizer.batch_encode_plus(\n",
    "    X_train.tolist(),\n",
    "    max_length=MAX_LENGTH,\n",
    "    padding=\"max_length\",\n",
    "    truncation=True\n",
    ")\n",
    "\n",
    "# Tokenizing the validation set.\n",
    "validation_tokens = tokenizer.batch_encode_plus(\n",
    "    X_val.tolist(),\n",
    "    max_length=MAX_LENGTH,\n",
    "    padding=\"max_length\",\n",
    "    truncation=True\n",
    ")\n",
    "\n",
    "# Tokenizing the test set.\n",
    "test_tokens = tokenizer.batch_encode_plus(\n",
    "    X_test.tolist(),\n",
    "    max_length=MAX_LENGTH,\n",
    "    padding=\"max_length\",\n",
    "    truncation=True\n",
    ")"
   ]
  },
  {
   "cell_type": "markdown",
   "metadata": {},
   "source": [
    "Now the standard procedure, convert them into tensors, wrap them in `TensorDataset` and define the data loaders to be used for training:\n",
    "\n",
    "Recall that our tokenizer will return a dictionary with `input_ids` and `attention_mask`."
   ]
  },
  {
   "cell_type": "code",
   "execution_count": 6,
   "metadata": {},
   "outputs": [
    {
     "name": "stdout",
     "output_type": "stream",
     "text": [
      "(28934,) torch.Size([28934])\n",
      "(5106,) torch.Size([5106])\n",
      "(8510,) torch.Size([8510])\n"
     ]
    }
   ],
   "source": [
    "import torch\n",
    "from torch.utils.data import TensorDataset, DataLoader\n",
    "\n",
    "batch_size = 32\n",
    "\n",
    "# Training and validation set.\n",
    "X_train_seq = torch.tensor(training_tokens['input_ids'])\n",
    "X_train_mask = torch.tensor(training_tokens['attention_mask'])\n",
    "Y_train = torch.tensor(Y_train.tolist())\n",
    "print(X_train.shape, Y_train.shape)\n",
    "dataset_train = TensorDataset(X_train_seq, X_train_mask, Y_train)\n",
    "loader_train = DataLoader(dataset_train, batch_size=batch_size, shuffle=True)\n",
    "\n",
    "X_val_seq = torch.tensor(validation_tokens['input_ids'])\n",
    "X_val_mask = torch.tensor(validation_tokens['attention_mask'])\n",
    "Y_val = torch.tensor(Y_val.tolist())\n",
    "print(X_val.shape, Y_val.shape)\n",
    "dataset_val = TensorDataset(X_val_seq, X_val_mask, Y_val)\n",
    "loader_val = DataLoader(dataset_val, batch_size=batch_size, shuffle=True)\n",
    "\n",
    "# Test set for evaluation.\n",
    "X_test_seq = torch.tensor(test_tokens['input_ids'])\n",
    "X_test_mask = torch.tensor(test_tokens['attention_mask'])\n",
    "Y_test = torch.tensor(Y_test.tolist())\n",
    "print(X_test.shape, Y_test.shape)\n",
    "dataset_test = TensorDataset(X_test_seq, X_test_mask, Y_test)\n",
    "loader_test = DataLoader(dataset_test, batch_size=batch_size, shuffle=True)"
   ]
  },
  {
   "cell_type": "markdown",
   "metadata": {},
   "source": [
    "## Setting up device for GPU"
   ]
  },
  {
   "cell_type": "code",
   "execution_count": 7,
   "metadata": {},
   "outputs": [
    {
     "name": "stdout",
     "output_type": "stream",
     "text": [
      "Device is set to: cuda\n"
     ]
    }
   ],
   "source": [
    "from torch import cuda\n",
    "device = 'cuda' if cuda.is_available() else 'cpu'\n",
    "\n",
    "print(\"Device is set to: {}\".format(device))"
   ]
  },
  {
   "cell_type": "markdown",
   "metadata": {},
   "source": [
    "## Setting up the DistilBERT model\n",
    "Code partially adapted from Prof. Chris's [MLP tutorial](https://github.com/chrisvdweth/nus-cs4248x/blob/master/3-neural-nlp/Section%201.1%20-%20Basic%20MLP.ipynb)."
   ]
  },
  {
   "cell_type": "markdown",
   "metadata": {},
   "source": [
    "### DistilBert model architecture\n",
    "\n",
    "Diagram and detailed explanation to be included in the report."
   ]
  },
  {
   "cell_type": "code",
   "execution_count": 8,
   "metadata": {},
   "outputs": [],
   "source": [
    "from transformers import DistilBertModel\n",
    "import torch.nn as nn\n",
    "\n",
    "class DistilBERTClassifier(nn.Module):\n",
    "    \n",
    "    def __init__(self):\n",
    "        super(DistilBERTClassifier, self).__init__()\n",
    "        self.distil_bert = DistilBertModel.from_pretrained(\"distilbert-base-uncased\")\n",
    "        self.dropout = nn.Dropout(0.1)\n",
    "        self.relu = nn.ReLU()\n",
    "        self.fc1 = nn.Linear(768, 512)\n",
    "        self.out = nn.Linear(512, 2)  # Output layer\n",
    "        self.log_softmax = nn.LogSoftmax(dim=1)\n",
    "\n",
    "    def forward(self, input_ids, attention_mask):\n",
    "        bert_output = self.distil_bert(input_ids=input_ids, attention_mask=attention_mask)\n",
    "        # print(bert_output)\n",
    "        # Note that DistilBERT has no pooler layer (see transformers' BaseModelOutput documentation).\n",
    "        hidden_state = bert_output[0]\n",
    "        # print(hidden_state)\n",
    "        pooler = hidden_state[:, 0]\n",
    "        # print(pooler)\n",
    "\n",
    "        x = self.fc1(pooler)\n",
    "        x = self.relu(x)\n",
    "        x = self.dropout(x)\n",
    "        x = self.out(x)\n",
    "        log_probs = self.log_softmax(x)\n",
    "        return log_probs"
   ]
  },
  {
   "cell_type": "markdown",
   "metadata": {},
   "source": [
    "Create model and move to device. Also define `optimizer` (AdamW), `criterion` (loss function) and set the number of epochs."
   ]
  },
  {
   "cell_type": "code",
   "execution_count": 9,
   "metadata": {},
   "outputs": [],
   "source": [
    "# Hyperparameters\n",
    "learning_rate = 1e-5\n",
    "num_epochs = 3\n",
    "\n",
    "lun_classifier = DistilBERTClassifier().to(device)\n",
    "criterion = nn.NLLLoss()\n",
    "optimizer = torch.optim.AdamW(lun_classifier.parameters(), lr=learning_rate)"
   ]
  },
  {
   "cell_type": "markdown",
   "metadata": {},
   "source": [
    "### Training and evaluation functions"
   ]
  },
  {
   "cell_type": "markdown",
   "metadata": {},
   "source": [
    "Training function to wrap training process:"
   ]
  },
  {
   "cell_type": "code",
   "execution_count": 10,
   "metadata": {},
   "outputs": [],
   "source": [
    "def train(model, loader_train, optimizer, criterion):\n",
    "\n",
    "    model.train()\n",
    "\n",
    "    total_loss = 0.0\n",
    "\n",
    "    with tqdm(total=len(loader_train)) as pbar:\n",
    "\n",
    "        # Loop over each batch in the data loader\n",
    "        for batch in loader_train:\n",
    "\n",
    "            X_batch_seq, X_batch_mask, Y_batch = batch\n",
    "            \n",
    "            # Move data to device\n",
    "            X_batch_seq, X_batch_mask, Y_batch = X_batch_seq.to(device), X_batch_mask.to(device), Y_batch.to(device)\n",
    "\n",
    "            # Push batch through network to get log probabilities for each sample in batch\n",
    "            log_probs = model(X_batch_seq, X_batch_mask)                \n",
    "\n",
    "            # Calculate loss\n",
    "            loss = criterion(log_probs, Y_batch)\n",
    "            total_loss = total_loss + loss.item()\n",
    "\n",
    "            ### PyTorch Magic! ###\n",
    "            optimizer.zero_grad()\n",
    "            loss.backward()\n",
    "            optimizer.step()\n",
    "\n",
    "            log_probs = log_probs.detach().cpu().numpy()\n",
    "\n",
    "            pbar.update(1)\n",
    "        \n",
    "    avg_loss = total_loss / len(loader_train)\n",
    "    return avg_loss"
   ]
  },
  {
   "cell_type": "markdown",
   "metadata": {},
   "source": [
    "Evaluation function with validation set:"
   ]
  },
  {
   "cell_type": "code",
   "execution_count": 11,
   "metadata": {},
   "outputs": [],
   "source": [
    "def evaluate(model, loader_val):\n",
    "\n",
    "    model.eval()\n",
    "\n",
    "    total_loss = 0.0\n",
    "\n",
    "    with tqdm(total=len(loader_val)) as pbar:\n",
    "        \n",
    "        # Loop over each batch in the data loader\n",
    "        for batch in loader_val:\n",
    "\n",
    "            X_batch_seq, X_batch_mask, Y_batch = batch\n",
    "            \n",
    "            # Move data to device\n",
    "            X_batch_seq, X_batch_mask, Y_batch = X_batch_seq.to(device), X_batch_mask.to(device), Y_batch.to(device)\n",
    "\n",
    "            with torch.no_grad():\n",
    "                # Push batch through network to get log probabilities for each sample in batch\n",
    "                log_probs = model(X_batch_seq, X_batch_mask)                \n",
    "            \n",
    "                # Compute validation loss between actual and predicted values\n",
    "                loss = criterion(log_probs, Y_batch)\n",
    "                total_loss = total_loss + loss.item()\n",
    "\n",
    "                log_probs = log_probs.detach().cpu().numpy()\n",
    "\n",
    "            pbar.update(1)\n",
    "        \n",
    "    # Set model back to train mode.\n",
    "    model.train()\n",
    "\n",
    "    avg_loss = total_loss / len(loader_val)\n",
    "    return avg_loss"
   ]
  },
  {
   "cell_type": "markdown",
   "metadata": {},
   "source": [
    "## Training the DistilBERT LUN classifier"
   ]
  },
  {
   "cell_type": "code",
   "execution_count": 14,
   "metadata": {
    "tags": []
   },
   "outputs": [
    {
     "name": "stdout",
     "output_type": "stream",
     "text": [
      "\n",
      " Epoch 1 / 3\n"
     ]
    },
    {
     "name": "stderr",
     "output_type": "stream",
     "text": [
      "100%|██████████| 905/905 [12:38<00:00,  1.19it/s]\n",
      "100%|██████████| 160/160 [00:46<00:00,  3.48it/s]\n"
     ]
    },
    {
     "name": "stdout",
     "output_type": "stream",
     "text": [
      "\n",
      "Training Loss: 0.166\n",
      "Validation Loss: 0.125\n",
      "\n",
      " Epoch 2 / 3\n"
     ]
    },
    {
     "name": "stderr",
     "output_type": "stream",
     "text": [
      "100%|██████████| 905/905 [12:34<00:00,  1.20it/s]\n",
      "100%|██████████| 160/160 [00:45<00:00,  3.48it/s]\n"
     ]
    },
    {
     "name": "stdout",
     "output_type": "stream",
     "text": [
      "\n",
      "Training Loss: 0.116\n",
      "Validation Loss: 0.127\n",
      "\n",
      " Epoch 3 / 3\n"
     ]
    },
    {
     "name": "stderr",
     "output_type": "stream",
     "text": [
      "100%|██████████| 905/905 [12:34<00:00,  1.20it/s]\n",
      "100%|██████████| 160/160 [00:45<00:00,  3.48it/s]"
     ]
    },
    {
     "name": "stdout",
     "output_type": "stream",
     "text": [
      "\n",
      "Training Loss: 0.096\n",
      "Validation Loss: 0.130\n"
     ]
    },
    {
     "name": "stderr",
     "output_type": "stream",
     "text": [
      "\n"
     ]
    }
   ],
   "source": [
    "# Training and evaluating the predictions.\n",
    "\n",
    "best_val_loss = float('inf')\n",
    "training_losses = []\n",
    "validation_losses = []\n",
    "\n",
    "for epoch in range(num_epochs):\n",
    "    print('\\n Epoch {:} / {:}'.format(epoch + 1, num_epochs))\n",
    "\n",
    "    training_loss = train(lun_classifier, loader_train, optimizer, criterion)\n",
    "    validation_loss = evaluate(lun_classifier, loader_val)\n",
    "    \n",
    "    if validation_loss < best_val_loss:\n",
    "        best_val_loss = validation_loss\n",
    "        torch.save(lun_classifier.state_dict(), 'DistilBERT_LUN_weights.pt')\n",
    "    \n",
    "    training_losses.append(training_loss)\n",
    "    validation_losses.append(validation_loss)\n",
    "\n",
    "    print(f'\\nTraining Loss: {training_loss:.3f}')\n",
    "    print(f'Validation Loss: {validation_loss:.3f}')"
   ]
  },
  {
   "cell_type": "code",
   "execution_count": 14,
   "metadata": {
    "tags": []
   },
   "outputs": [],
   "source": [
    "def predict_and_eval(model, loader):\n",
    "\n",
    "    model.eval()\n",
    "    \n",
    "    Y_pred, Y_test = [], []\n",
    "\n",
    "    with tqdm(total=len(loader)) as pbar:\n",
    "        \n",
    "        # Loop over each batch in the data loader\n",
    "        for batch in loader_val:\n",
    "\n",
    "            X_batch_seq, X_batch_mask, Y_batch = batch\n",
    "            \n",
    "            # Move data to device\n",
    "            X_batch_seq, X_batch_mask, Y_batch = X_batch_seq.to(device), X_batch_mask.to(device), Y_batch.to(device)\n",
    "\n",
    "            # Push batch through network to get log probabilities for each sample in batch\n",
    "            log_probs = model(X_batch_seq, X_batch_mask)                \n",
    "            \n",
    "            # The predicted labels are the index of the higest log probability (for each sample)\n",
    "            Y_batch_pred = torch.argmax(log_probs, dim=1)\n",
    "\n",
    "            # Add predictions and ground truth for current batch\n",
    "            Y_test += list(Y_batch.detach().cpu().numpy())\n",
    "            Y_pred += list(Y_batch_pred.detach().cpu().numpy())\n",
    "\n",
    "            pbar.update(1)\n",
    "\n",
    "    model.train()            \n",
    "            \n",
    "    # Return the f1 score as the output result\n",
    "    return Y_pred, Y_test"
   ]
  },
  {
   "cell_type": "code",
   "execution_count": 15,
   "metadata": {
    "tags": []
   },
   "outputs": [
    {
     "name": "stderr",
     "output_type": "stream",
     "text": [
      " 60%|██████    | 160/266 [00:44<00:29,  3.58it/s]"
     ]
    },
    {
     "name": "stdout",
     "output_type": "stream",
     "text": [
      "              precision    recall  f1-score   support\n",
      "\n",
      "           0       0.96      0.85      0.91      2028\n",
      "           1       0.91      0.98      0.94      3078\n",
      "\n",
      "    accuracy                           0.93      5106\n",
      "   macro avg       0.94      0.92      0.92      5106\n",
      "weighted avg       0.93      0.93      0.93      5106\n",
      "\n"
     ]
    },
    {
     "name": "stderr",
     "output_type": "stream",
     "text": [
      "\n"
     ]
    }
   ],
   "source": [
    "from sklearn.metrics import classification_report\n",
    "\n",
    "path = 'DistilBERT_LUN_weights.pt'\n",
    "lun_classifier.load_state_dict(torch.load(path))\n",
    "\n",
    "# X_test_seq, X_test_mask = X_test_seq.to(device), X_test_mask.to(device)\n",
    "\n",
    "Y_pred, Y_test = predict_and_eval(lun_classifier, loader_test)\n",
    "\n",
    "print(classification_report(Y_test, Y_pred))"
   ]
  }
 ],
 "metadata": {
  "environment": {
   "kernel": "conda-env-cs4248-cs4248",
   "name": "workbench-notebooks.m118",
   "type": "gcloud",
   "uri": "us-docker.pkg.dev/deeplearning-platform-release/gcr.io/workbench-notebooks:m118"
  },
  "kernelspec": {
   "display_name": "cs4248 (Local)",
   "language": "python",
   "name": "conda-env-cs4248-cs4248"
  },
  "language_info": {
   "codemirror_mode": {
    "name": "ipython",
    "version": 3
   },
   "file_extension": ".py",
   "mimetype": "text/x-python",
   "name": "python",
   "nbconvert_exporter": "python",
   "pygments_lexer": "ipython3",
   "version": "3.10.13"
  }
 },
 "nbformat": 4,
 "nbformat_minor": 4
}

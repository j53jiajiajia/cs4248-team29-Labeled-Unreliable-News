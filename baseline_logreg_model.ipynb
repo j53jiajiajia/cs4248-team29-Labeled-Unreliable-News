{
 "cells": [
  {
   "cell_type": "markdown",
   "metadata": {},
   "source": [
    "## Important notes: \n",
    "Before running this code, please ensures that you have set up the following directory structure:\n",
    "```\n",
    "/root\n",
    "  |-- baseline_logreg_model.ipynb\n",
    "  |-- /dataset\n",
    "    |-- train.csv\n",
    "    |-- test.csv\n",
    "    |-- /features\n",
    "        |-- glove.6B.100d.txt\n",
    "        |-- <any other cached csv files for fast computation>\n",
    "```"
   ]
  },
  {
   "cell_type": "markdown",
   "metadata": {},
   "source": [
    "## Loading Dataset"
   ]
  },
  {
   "cell_type": "code",
   "execution_count": 2,
   "metadata": {},
   "outputs": [
    {
     "data": {
      "text/plain": [
       "((42702, 5), (16937, 5))"
      ]
     },
     "execution_count": 2,
     "metadata": {},
     "output_type": "execute_result"
    }
   ],
   "source": [
    "# Load the data from the dataset\n",
    "\n",
    "import pandas as pd\n",
    "\n",
    "original_training_df = pd.read_csv(\"./dataset/train.csv\")\n",
    "original_testing_df = pd.read_csv(\"./dataset/test.csv\")\n",
    "\n",
    "# don't sample, use the actual data\n",
    "training_df = original_training_df\n",
    "testing_df = original_testing_df\n",
    "\n",
    "original_training_df.shape, original_testing_df.shape"
   ]
  },
  {
   "cell_type": "markdown",
   "metadata": {},
   "source": [
    "# Feature Engineering"
   ]
  },
  {
   "cell_type": "markdown",
   "metadata": {},
   "source": [
    "## Empath Features\n",
    "Empath is a library that provides categorization of text by its sentiment. For example, if we have a text saying that \"We have 1 billion USD.\", it is likely that the library categorizes this text as \"money\" related and so on."
   ]
  },
  {
   "cell_type": "code",
   "execution_count": 12,
   "metadata": {},
   "outputs": [],
   "source": [
    "from empath import Empath\n",
    "\n",
    "lexicon = Empath()\n",
    "\n",
    "desired_categories = ['business', 'economics', 'money', 'tourism', 'shopping', 'leader', 'government', 'banking', 'hiking']\n",
    "\n",
    "def extract_empath_features(text: str) -> dict:\n",
    "    return lexicon.analyze(text, categories=desired_categories)\n",
    "\n",
    "training_empath_features = pd.DataFrame(training_df[\"Document\"].apply(extract_empath_features).tolist())\n",
    "testing_empath_features = pd.DataFrame(testing_df[\"Document\"].apply(extract_empath_features).tolist())"
   ]
  },
  {
   "cell_type": "markdown",
   "metadata": {},
   "source": [
    "Since some of the categorization in Empath has very low correlation to the labeling of important and unimportant fact, we only select categories that have higher correlation."
   ]
  },
  {
   "cell_type": "code",
   "execution_count": 112,
   "metadata": {},
   "outputs": [
    {
     "data": {
      "text/plain": [
       "business      0.263896\n",
       "economics     0.234881\n",
       "government    0.233978\n",
       "leader        0.225144\n",
       "money         0.204439\n",
       "banking       0.187463\n",
       "tourism       0.158579\n",
       "shopping      0.150630\n",
       "hiking        0.105904\n",
       "dtype: float64"
      ]
     },
     "execution_count": 112,
     "metadata": {},
     "output_type": "execute_result"
    }
   ],
   "source": [
    "# check correlation of the engineered features with the class\n",
    "empath_correlation = training_empath_features.corrwith(training_df[\"Label\"])\n",
    "empath_correlation.sort_values(ascending=False, inplace=True)\n",
    "\n",
    "empath_correlation"
   ]
  },
  {
   "cell_type": "markdown",
   "metadata": {},
   "source": [
    "### (Optional) Get Desired Empath Categories\n",
    "Below 2 cells show how we find out the categories of interest, as Empath provides 194 categories as default, not all of them give information about the class label, hence we only choose those categories with high correlation."
   ]
  },
  {
   "cell_type": "code",
   "execution_count": 113,
   "metadata": {},
   "outputs": [
    {
     "data": {
      "image/png": "[encoded data removed]",
      "text/plain": [
       "<Figure size 1000x500 with 1 Axes>"
      ]
     },
     "metadata": {},
     "output_type": "display_data"
    }
   ],
   "source": [
    "# check distribution of the correlation\n",
    "import matplotlib.pyplot as plt\n",
    "import seaborn as sns\n",
    "\n",
    "plt.figure(figsize=(10, 5))\n",
    "sns.histplot(empath_correlation, kde=True)\n",
    "plt.title(\"Correlation Distribution\")\n",
    "plt.show()"
   ]
  },
  {
   "cell_type": "code",
   "execution_count": 28,
   "metadata": {},
   "outputs": [
    {
     "data": {
      "text/plain": [
       "Index(['business', 'economics', 'money', 'tourism', 'shopping', 'leader',\n",
       "       'government', 'banking', 'hiking'],\n",
       "      dtype='object')"
      ]
     },
     "execution_count": 28,
     "metadata": {},
     "output_type": "execute_result"
    }
   ],
   "source": [
    "# select empath categories with correlation > 0.1\n",
    "selected_empath_features = empath_correlation[empath_correlation > 0.1].index\n",
    "\n",
    "selected_training_empath_features = training_empath_features[selected_empath_features]\n",
    "\n",
    "selected_training_empath_features.columns"
   ]
  },
  {
   "cell_type": "markdown",
   "metadata": {},
   "source": [
    "## Complexity Features\n",
    "Complexity features include most numerical features of a given text. "
   ]
  },
  {
   "cell_type": "code",
   "execution_count": 13,
   "metadata": {},
   "outputs": [],
   "source": [
    "def extract_complexity_features(text: str) -> dict:\n",
    "    complexity_features = {}\n",
    "    complexity_features[\"digit_ratio\"] = len([char for char in text if char.isdigit()]) / len(text)\n",
    "    \n",
    "    return complexity_features\n",
    "    \n",
    "training_complexity_features = training_df[\"Document\"].apply(extract_complexity_features).apply(pd.Series)\n",
    "training_complexity_features[\"sentence_count\"] = training_df[\"Num_Sentences\"]\n",
    "training_complexity_features[\"text_length\"] = training_df[\"Document\"].apply(len)\n",
    "training_complexity_features[\"avg_sentence_length\"] = training_complexity_features[\"text_length\"] / training_complexity_features[\"sentence_count\"]\n",
    "\n",
    "testing_complexity_features = testing_df[\"Document\"].apply(extract_complexity_features).apply(pd.Series)\n",
    "testing_complexity_features[\"sentence_count\"] = testing_df[\"Num_Sentences\"]\n",
    "testing_complexity_features[\"text_length\"] = testing_df[\"Document\"].apply(len)\n",
    "testing_complexity_features[\"avg_sentence_length\"] = testing_complexity_features[\"text_length\"] / testing_complexity_features[\"sentence_count\"]"
   ]
  },
  {
   "cell_type": "code",
   "execution_count": 115,
   "metadata": {},
   "outputs": [
    {
     "data": {
      "text/plain": [
       "text_length            0.215251\n",
       "sentence_count         0.170089\n",
       "avg_sentence_length    0.150759\n",
       "digit_ratio            0.112814\n",
       "special_char_ratio    -0.006241\n",
       "dtype: float64"
      ]
     },
     "execution_count": 115,
     "metadata": {},
     "output_type": "execute_result"
    }
   ],
   "source": [
    "# check correlation of the engineered features with the class\n",
    "\n",
    "complexity_correlation = training_complexity_features.corrwith(training_df[\"Label\"])\n",
    "\n",
    "complexity_correlation = complexity_correlation.sort_values(ascending=False)\n",
    "\n",
    "complexity_correlation"
   ]
  },
  {
   "cell_type": "markdown",
   "metadata": {},
   "source": [
    "## Psycholinguistic Features"
   ]
  },
  {
   "cell_type": "code",
   "execution_count": 14,
   "metadata": {},
   "outputs": [],
   "source": [
    "from textblob import TextBlob\n",
    "import spacy\n",
    "import contractions\n",
    "\n",
    "nlp = spacy.load(\"en_core_web_sm\")\n",
    "\n",
    "def extract_psycholinguistic_features(text: str):\n",
    "    psycholinguistic_features = {}\n",
    "    \n",
    "    textBlob = TextBlob(contractions.fix(text))\n",
    "    psycholinguistic_features[\"polarity\"] = textBlob.sentiment.polarity\n",
    "    psycholinguistic_features[\"subjectivity\"] = textBlob.sentiment.subjectivity\n",
    "    \n",
    "    return psycholinguistic_features\n",
    "\n",
    "training_psycholinguistic_features = training_df[\"Document\"].apply(extract_psycholinguistic_features).apply(pd.Series)\n",
    "testing_psycholinguistic_features = testing_df[\"Document\"].apply(extract_psycholinguistic_features).apply(pd.Series)"
   ]
  },
  {
   "cell_type": "code",
   "execution_count": 15,
   "metadata": {},
   "outputs": [
    {
     "data": {
      "text/plain": [
       "polarity        0.052736\n",
       "subjectivity   -0.114879\n",
       "dtype: float64"
      ]
     },
     "execution_count": 15,
     "metadata": {},
     "output_type": "execute_result"
    }
   ],
   "source": [
    "# check correlation of the engineered features with the class\n",
    "\n",
    "psycholinguistic_correlation = training_psycholinguistic_features.corrwith(training_df[\"Label\"])\n",
    "\n",
    "psycholinguistic_correlation = psycholinguistic_correlation.sort_values(ascending=False)\n",
    "\n",
    "psycholinguistic_correlation"
   ]
  },
  {
   "cell_type": "markdown",
   "metadata": {},
   "source": [
    "## Readability Features"
   ]
  },
  {
   "cell_type": "code",
   "execution_count": 16,
   "metadata": {},
   "outputs": [],
   "source": [
    "import textstat\n",
    "\n",
    "def extract_readability_features(text):\n",
    "    readability_features = {}\n",
    "    \n",
    "    readability_features[\"gunning_fog_index\"] = textstat.gunning_fog(text)\n",
    "    readability_features[\"coleman_liau_index\"] = textstat.coleman_liau_index(text)\n",
    "    readability_features['linsear_write'] = textstat.linsear_write_formula(text)\n",
    "    \n",
    "    # Dale-Chall Readability Score\n",
    "    readability_features['dale_chall_score'] = textstat.dale_chall_readability_score(text)\n",
    "    \n",
    "    # Flesch Reading Ease\n",
    "    readability_features['flesch_reading_ease'] = textstat.flesch_reading_ease(text)\n",
    "    \n",
    "    # Spache Readability Score\n",
    "    readability_features['spache'] = textstat.spache_readability(text)\n",
    "    \n",
    "    # Automated Readability Index\n",
    "    readability_features['automated_readability_index'] = textstat.automated_readability_index(text)\n",
    "    \n",
    "    # Smog Index\n",
    "    readability_features['smog_index'] = textstat.smog_index(text)\n",
    "    \n",
    "    # Flesch-Kincaid Grade Level\n",
    "    readability_features['flesch_kincaid_grade'] = textstat.flesch_kincaid_grade(text)\n",
    "    \n",
    "    # RIX Readability\n",
    "    readability_features['rix'] = textstat.rix(text)\n",
    "    \n",
    "    # McAlpine EFLAW Readability\n",
    "    readability_features['mcalpine_eflaw'] = textstat.mcalpine_eflaw(text)\n",
    "    \n",
    "    # Gulpease Readability\n",
    "    readability_features['gulpease'] = textstat.gulpease_index(text)\n",
    "    \n",
    "    return readability_features\n",
    "\n",
    "training_readability_features = training_df[\"Document\"].apply(extract_readability_features).apply(pd.Series)\n",
    "testing_readability_features = testing_df[\"Document\"].apply(extract_readability_features).apply(pd.Series)"
   ]
  },
  {
   "cell_type": "code",
   "execution_count": 120,
   "metadata": {},
   "outputs": [
    {
     "data": {
      "text/plain": [
       "rix                            0.266009\n",
       "spache                         0.186423\n",
       "gunning_fog_index              0.176326\n",
       "flesch_kincaid_grade           0.164256\n",
       "mcalpine_eflaw                 0.159909\n",
       "smog_index                     0.146777\n",
       "linsear_write                  0.146760\n",
       "automated_readability_index    0.084847\n",
       "coleman_liau_index             0.040524\n",
       "dale_chall_score               0.039097\n",
       "flesch_reading_ease           -0.113816\n",
       "gulpease                      -0.135295\n",
       "dtype: float64"
      ]
     },
     "execution_count": 120,
     "metadata": {},
     "output_type": "execute_result"
    }
   ],
   "source": [
    "# check correlation of the engineered features with the class\n",
    "\n",
    "readability_correlation = training_readability_features.corrwith(training_df[\"Label\"])\n",
    "\n",
    "readability_correlation = readability_correlation.sort_values(ascending=False)\n",
    "\n",
    "readability_correlation"
   ]
  },
  {
   "cell_type": "markdown",
   "metadata": {},
   "source": [
    "## NER Features (Not Used)\n",
    "\n",
    "The intuition of using NER as features is that it is likely that a sentence that has many NER entities might be an important fact, we want to exploit this property. However, the computation time for NER features are way too long, and it doesn't boost the model performance significantly."
   ]
  },
  {
   "cell_type": "code",
   "execution_count": 86,
   "metadata": {},
   "outputs": [
    {
     "name": "stderr",
     "output_type": "stream",
     "text": [
      "[nltk_data] Downloading package punkt to\n",
      "[nltk_data]     C:\\Users\\tryyang\\AppData\\Roaming\\nltk_data...\n",
      "[nltk_data]   Package punkt is already up-to-date!\n",
      "[nltk_data] Downloading package averaged_perceptron_tagger to\n",
      "[nltk_data]     C:\\Users\\tryyang\\AppData\\Roaming\\nltk_data...\n",
      "[nltk_data]   Package averaged_perceptron_tagger is already up-to-\n",
      "[nltk_data]       date!\n",
      "[nltk_data] Downloading package maxent_ne_chunker to\n",
      "[nltk_data]     C:\\Users\\tryyang\\AppData\\Roaming\\nltk_data...\n",
      "[nltk_data]   Package maxent_ne_chunker is already up-to-date!\n",
      "[nltk_data] Downloading package words to\n",
      "[nltk_data]     C:\\Users\\tryyang\\AppData\\Roaming\\nltk_data...\n",
      "[nltk_data]   Package words is already up-to-date!\n"
     ]
    }
   ],
   "source": [
    "# import nltk\n",
    "\n",
    "# nltk.download('punkt')\n",
    "# nltk.download('averaged_perceptron_tagger')\n",
    "# nltk.download('maxent_ne_chunker')\n",
    "# nltk.download('words')\n",
    "\n",
    "# from nltk.tokenize import word_tokenize\n",
    "# from nltk.tree import Tree\n",
    "\n",
    "# def extract_ner_features(document: str) -> dict:\n",
    "#     ner_features = {}\n",
    "    \n",
    "#     words = word_tokenize(document)\n",
    "#     pos_tags = nltk.pos_tag(words)\n",
    "#     ner_tags = nltk.ne_chunk(pos_tags)\n",
    "    \n",
    "#     # obtain total number of entities presented in the document, and total number of unique different entity types\n",
    "#     entities = []\n",
    "#     unique_entity_types = set()\n",
    "    \n",
    "#     for entity in ner_tags:\n",
    "#         if type(entity) == Tree:\n",
    "#             entities.append(\" \".join([word for word, tag in entity.leaves()]))\n",
    "#             unique_entity_types.add(entity.label())\n",
    "            \n",
    "#     ner_features[\"total_entities\"] = len(entities)\n",
    "#     ner_features[\"unique_entities\"] = len(set(entities))\n",
    "#     ner_features[\"unique_entity_types\"] = len(unique_entity_types)\n",
    "        \n",
    "#     return ner_features\n",
    "                \n",
    "\n",
    "# training_ner_features = training_df[\"Document\"].apply(extract_ner_features).apply(pd.Series)\n",
    "# testing_ner_features = testing_df[\"Document\"].apply(extract_ner_features).apply(pd.Series)    "
   ]
  },
  {
   "cell_type": "code",
   "execution_count": 87,
   "metadata": {},
   "outputs": [
    {
     "data": {
      "text/plain": [
       "total_entities         0.201191\n",
       "unique_entities        0.187495\n",
       "unique_entity_types    0.151966\n",
       "dtype: float64"
      ]
     },
     "execution_count": 87,
     "metadata": {},
     "output_type": "execute_result"
    }
   ],
   "source": [
    "# # check correlation of the engineered features with the class\n",
    "\n",
    "# ner_correlation = training_ner_features.corrwith(training_df[\"Label\"])\n",
    "\n",
    "# ner_correlation = ner_correlation.sort_values(ascending=False)\n",
    "\n",
    "# ner_correlation"
   ]
  },
  {
   "cell_type": "markdown",
   "metadata": {},
   "source": [
    "## TF-IDF Features"
   ]
  },
  {
   "cell_type": "code",
   "execution_count": 3,
   "metadata": {},
   "outputs": [
    {
     "data": {
      "text/plain": [
       "((42702, 30000), (16937, 30000))"
      ]
     },
     "execution_count": 3,
     "metadata": {},
     "output_type": "execute_result"
    }
   ],
   "source": [
    "# tf-idf vectorization\n",
    "from sklearn.feature_extraction.text import TfidfVectorizer\n",
    "import re\n",
    "import contractions\n",
    "\n",
    "def preprocess_text(text: str) -> str:\n",
    "    # fix the text by removing special characters, expand contractions and converting to lowercase\n",
    "    fixed_text = contractions.fix(text)\n",
    "    return re.sub(r\"[^a-zA-z0-9\\s]\", \"\", fixed_text).lower()\n",
    "\n",
    "# the original tf-idf vector has more than 180k features, which requires a RAM of >50GB to process\n",
    "# 30k highest frequency words are selected to reduce the feature space, so that it can fit to a 16GB RAM\n",
    "tf_idf_vectorizer = TfidfVectorizer(preprocessor=preprocess_text, stop_words=\"english\", max_features=30000)\n",
    "\n",
    "tf_idf_vectorizer.fit(training_df[\"Document\"])\n",
    "\n",
    "training_tf_idf_features = tf_idf_vectorizer.transform(training_df[\"Document\"])\n",
    "training_tf_idf_features = pd.DataFrame(training_tf_idf_features.toarray(), columns=tf_idf_vectorizer.get_feature_names_out())\n",
    "testing_tf_idf_features = tf_idf_vectorizer.transform(testing_df[\"Document\"])\n",
    "testing_tf_idf_features = pd.DataFrame(testing_tf_idf_features.toarray(), columns=tf_idf_vectorizer.get_feature_names_out())\n",
    "\n",
    "training_tf_idf_features.shape, testing_tf_idf_features.shape"
   ]
  },
  {
   "cell_type": "markdown",
   "metadata": {},
   "source": [
    "As TF-IDF features are too sparse and big, one idea is to use SVD technique to extract only important features from it."
   ]
  },
  {
   "cell_type": "code",
   "execution_count": 4,
   "metadata": {},
   "outputs": [
    {
     "data": {
      "text/plain": [
       "((42702, 100), (16937, 100))"
      ]
     },
     "execution_count": 4,
     "metadata": {},
     "output_type": "execute_result"
    }
   ],
   "source": [
    "# Apply SVD on tf_idf features\n",
    "from sklearn.decomposition import TruncatedSVD\n",
    "\n",
    "n_components = 100\n",
    "\n",
    "svd = TruncatedSVD(n_components=n_components, random_state=42)\n",
    "\n",
    "training_tf_idf_features = svd.fit_transform(training_tf_idf_features)\n",
    "testing_tf_idf_features = svd.transform(testing_tf_idf_features)\n",
    "\n",
    "training_tf_idf_features = pd.DataFrame(training_tf_idf_features, columns=[f\"tf_idf_svd_{i}\" for i in range(n_components)])\n",
    "testing_tf_idf_features = pd.DataFrame(testing_tf_idf_features, columns=[f\"tf_idf_svd_{i}\" for i in range(n_components)])\n",
    "\n",
    "training_tf_idf_features.shape, testing_tf_idf_features.shape"
   ]
  },
  {
   "cell_type": "markdown",
   "metadata": {},
   "source": [
    "### (Optional) Write tf-idf SVD-ed features to disk\n",
    "Simple reason to save computational time required when we rerun the model."
   ]
  },
  {
   "cell_type": "code",
   "execution_count": 7,
   "metadata": {},
   "outputs": [],
   "source": [
    "# write the tf_idf SVD-ed features to disk\n",
    "training_tf_idf_features.to_csv(\"./dataset/features/training_tf_idf_svd_features.csv\", index=False)\n",
    "testing_tf_idf_features.to_csv(\"./dataset/features/testing_tf_idf_svd_features.csv\", index=False)"
   ]
  },
  {
   "cell_type": "code",
   "execution_count": null,
   "metadata": {},
   "outputs": [],
   "source": [
    "# read the tf_idf SVD-ed features from disk\n",
    "training_tf_idf_features = pd.read_csv(\"./dataset/features/training_tf_idf_svd_features.csv\")\n",
    "testing_tf_idf_features = pd.read_csv(\"./dataset/features/testing_tf_idf_svd_features.csv\")"
   ]
  },
  {
   "cell_type": "code",
   "execution_count": 5,
   "metadata": {},
   "outputs": [
    {
     "data": {
      "text/plain": [
       "tf_idf_svd_2     0.443144\n",
       "tf_idf_svd_1     0.301324\n",
       "tf_idf_svd_0     0.259585\n",
       "tf_idf_svd_3     0.248099\n",
       "tf_idf_svd_4     0.192920\n",
       "                   ...   \n",
       "tf_idf_svd_10   -0.064942\n",
       "tf_idf_svd_6    -0.079798\n",
       "tf_idf_svd_7    -0.088049\n",
       "tf_idf_svd_14   -0.120472\n",
       "tf_idf_svd_16   -0.177082\n",
       "Length: 100, dtype: float64"
      ]
     },
     "execution_count": 5,
     "metadata": {},
     "output_type": "execute_result"
    }
   ],
   "source": [
    "# check correlation of the engineered features with the class\n",
    "tf_idf_correlation = training_tf_idf_features.corrwith(training_df[\"Label\"])\n",
    "tf_idf_correlation = tf_idf_correlation.sort_values(ascending=False)\n",
    "\n",
    "tf_idf_correlation"
   ]
  },
  {
   "cell_type": "markdown",
   "metadata": {},
   "source": [
    "## GloVe\n",
    "GloVe is a dictionary of pre-trained word embeddings, taking the pre-computed word embeddings and extract features on top of them significantly help improve the model performance."
   ]
  },
  {
   "cell_type": "code",
   "execution_count": 8,
   "metadata": {},
   "outputs": [],
   "source": [
    "import numpy as np\n",
    "\n",
    "def load_glove_embeddings():\n",
    "    embedding_dict = dict()\n",
    "    with open(\"./dataset/features/glove.6B.100d.txt\", \"r\", encoding=\"utf-8\") as file:\n",
    "        for line in file:\n",
    "            values = line.split()\n",
    "            word = values[0]\n",
    "            vectors = np.asarray(values[1:], dtype=\"float32\")\n",
    "            embedding_dict[word] = vectors\n",
    "            \n",
    "    return embedding_dict\n",
    "\n",
    "glove_embeddings = load_glove_embeddings()"
   ]
  },
  {
   "cell_type": "code",
   "execution_count": 9,
   "metadata": {},
   "outputs": [
    {
     "name": "stderr",
     "output_type": "stream",
     "text": [
      "[nltk_data] Downloading package punkt to\n",
      "[nltk_data]     C:\\Users\\tryyang\\AppData\\Roaming\\nltk_data...\n",
      "[nltk_data]   Package punkt is already up-to-date!\n",
      "[nltk_data] Downloading package wordnet to\n",
      "[nltk_data]     C:\\Users\\tryyang\\AppData\\Roaming\\nltk_data...\n",
      "[nltk_data]   Package wordnet is already up-to-date!\n"
     ]
    },
    {
     "data": {
      "text/plain": [
       "((42702, 200), (16937, 200))"
      ]
     },
     "execution_count": 9,
     "metadata": {},
     "output_type": "execute_result"
    }
   ],
   "source": [
    "import nltk\n",
    "\n",
    "nltk.download(\"punkt\")\n",
    "nltk.download(\"wordnet\")\n",
    "\n",
    "from nltk.tokenize import word_tokenize\n",
    "from nltk.stem import WordNetLemmatizer\n",
    "import contractions\n",
    "\n",
    "glove_dimensions = 100\n",
    "lemmatizer = WordNetLemmatizer()\n",
    "\n",
    "\n",
    "def tokenize_text(document: str) -> list:\n",
    "    # remove special characters, expand contractions and convert to lowercase\n",
    "    text = contractions.fix(document)\n",
    "    text = re.sub(r\"[^a-zA-z0-9\\s]\", \"\", text).lower()\n",
    "\n",
    "    tokens = word_tokenize(text)\n",
    "    \n",
    "    # lemmatize the tokens\n",
    "    tokens = [lemmatizer.lemmatize(token) for token in tokens]\n",
    "    \n",
    "    return tokens\n",
    "\n",
    "\n",
    "def get_word_embedding(word: str) -> np.ndarray:\n",
    "    return glove_embeddings.get(word, np.zeros(glove_dimensions))\n",
    "\n",
    "\n",
    "def extract_embedding_features(document: str) -> pd.DataFrame:\n",
    "    tokens = tokenize_text(document)\n",
    "    embeddings = [get_word_embedding(token) for token in tokens]\n",
    "    \n",
    "    # compute the embedding features, cast to Series and give proper column names\n",
    "    avg_embedding = pd.Series(np.mean(embeddings, axis=0), index=[f\"avg_embedding_{i}\" for i in range(glove_dimensions)])\n",
    "    total_embedding = pd.Series(np.sum(embeddings, axis=0), index=[f\"total_embedding_{i}\" for i in range(glove_dimensions)])\n",
    "    # below are tried features, though they do not help much\n",
    "    # min_embedding = pd.Series(np.min(embeddings, axis=0), index=[f\"min_embedding_{i}\" for i in range(glove_dimensions)])\n",
    "    # max_embedding = pd.Series(np.max(embeddings, axis=0), index=[f\"max_embedding_{i}\" for i in range(glove_dimensions)])\n",
    "    \n",
    "    return pd.concat([avg_embedding, total_embedding])\n",
    "    \n",
    "\n",
    "training_embedding_features = training_df[\"Document\"].apply(extract_embedding_features)\n",
    "testing_embedding_features = testing_df[\"Document\"].apply(extract_embedding_features)\n",
    "\n",
    "training_embedding_features.shape, testing_embedding_features.shape\n"
   ]
  },
  {
   "cell_type": "markdown",
   "metadata": {},
   "source": [
    "### (Optional) Write embedding features to disk\n",
    "Simple reason to save computational time on rerun."
   ]
  },
  {
   "cell_type": "code",
   "execution_count": 11,
   "metadata": {},
   "outputs": [],
   "source": [
    "# write the embedding features to disk\n",
    "training_embedding_features.to_csv(\"./dataset/features/training_embedding_features.csv\", index=False)\n",
    "testing_embedding_features.to_csv(\"./dataset/features/testing_embedding_features.csv\", index=False)"
   ]
  },
  {
   "cell_type": "code",
   "execution_count": 10,
   "metadata": {},
   "outputs": [
    {
     "data": {
      "text/plain": [
       "avg_embedding_95      0.394225\n",
       "total_embedding_95    0.345192\n",
       "total_embedding_4     0.335838\n",
       "avg_embedding_4       0.326824\n",
       "total_embedding_23    0.312639\n",
       "                        ...   \n",
       "total_embedding_92   -0.311377\n",
       "total_embedding_25   -0.325668\n",
       "avg_embedding_25     -0.332775\n",
       "avg_embedding_66     -0.352065\n",
       "avg_embedding_5      -0.366997\n",
       "Length: 200, dtype: float64"
      ]
     },
     "execution_count": 10,
     "metadata": {},
     "output_type": "execute_result"
    }
   ],
   "source": [
    "# check correlation of the engineered features with the class\n",
    "embedding_correlation = training_embedding_features.corrwith(training_df[\"Label\"])\n",
    "embedding_correlation = embedding_correlation.sort_values(ascending=False)\n",
    "\n",
    "embedding_correlation"
   ]
  },
  {
   "cell_type": "markdown",
   "metadata": {},
   "source": [
    "## Combining all extracted features"
   ]
  },
  {
   "cell_type": "code",
   "execution_count": 17,
   "metadata": {},
   "outputs": [
    {
     "data": {
      "text/plain": [
       "((42702, 327), (16937, 327))"
      ]
     },
     "execution_count": 17,
     "metadata": {},
     "output_type": "execute_result"
    }
   ],
   "source": [
    "# combine all the features\n",
    "feature_df = pd.concat([training_empath_features, training_complexity_features, training_psycholinguistic_features, training_readability_features, training_tf_idf_features, training_embedding_features], axis=1)\n",
    "X_test = pd.concat([testing_empath_features, testing_complexity_features, testing_psycholinguistic_features, testing_readability_features, testing_tf_idf_features, testing_embedding_features], axis=1)\n",
    "\n",
    "feature_df.shape, X_test.shape"
   ]
  },
  {
   "cell_type": "code",
   "execution_count": 97,
   "metadata": {},
   "outputs": [
    {
     "data": {
      "text/plain": [
       "tf_idf_svd_2          0.387965\n",
       "avg_embedding_4       0.374160\n",
       "avg_embedding_95      0.354805\n",
       "total_embedding_95    0.326761\n",
       "total_embedding_4     0.323606\n",
       "                        ...   \n",
       "avg_embedding_41     -0.308806\n",
       "total_embedding_25   -0.314053\n",
       "avg_embedding_25     -0.318876\n",
       "avg_embedding_5      -0.328183\n",
       "avg_embedding_66     -0.349313\n",
       "Length: 331, dtype: float64"
      ]
     },
     "execution_count": 97,
     "metadata": {},
     "output_type": "execute_result"
    }
   ],
   "source": [
    "# check correlation of the engineered features with the class\n",
    "feature_correlation = feature_df.corrwith(training_df[\"Label\"])\n",
    "feature_correlation = feature_correlation.sort_values(ascending=False)\n",
    "\n",
    "feature_correlation"
   ]
  },
  {
   "cell_type": "code",
   "execution_count": 98,
   "metadata": {},
   "outputs": [
    {
     "data": {
      "image/png": "[encoded data removed]",
      "text/plain": [
       "<Figure size 1000x500 with 1 Axes>"
      ]
     },
     "metadata": {},
     "output_type": "display_data"
    }
   ],
   "source": [
    "# check distribution of the correlation\n",
    "import matplotlib.pyplot as plt\n",
    "import seaborn as sns\n",
    "\n",
    "plt.figure(figsize=(10, 5))\n",
    "sns.histplot(feature_correlation, kde=True)\n",
    "plt.title(\"Correlation Distribution\")\n",
    "plt.show()"
   ]
  },
  {
   "cell_type": "markdown",
   "metadata": {},
   "source": [
    "## Scaling"
   ]
  },
  {
   "cell_type": "code",
   "execution_count": 18,
   "metadata": {},
   "outputs": [],
   "source": [
    "# scale the features\n",
    "\n",
    "from sklearn.preprocessing import StandardScaler\n",
    "\n",
    "scaler = StandardScaler()\n",
    "\n",
    "# scale each feature individually\n",
    "feature_df = pd.DataFrame(scaler.fit_transform(feature_df), columns=feature_df.columns)\n",
    "X_test = pd.DataFrame(scaler.transform(X_test), columns=X_test.columns)"
   ]
  },
  {
   "cell_type": "markdown",
   "metadata": {},
   "source": [
    "## Randomization\n",
    "\n",
    "Randomize the data so that the model does not become bias as same labeled data are always coming together."
   ]
  },
  {
   "cell_type": "code",
   "execution_count": 19,
   "metadata": {},
   "outputs": [
    {
     "data": {
      "text/html": [
       "<div>\n",
       "<style scoped>\n",
       "    .dataframe tbody tr th:only-of-type {\n",
       "        vertical-align: middle;\n",
       "    }\n",
       "\n",
       "    .dataframe tbody tr th {\n",
       "        vertical-align: top;\n",
       "    }\n",
       "\n",
       "    .dataframe thead th {\n",
       "        text-align: right;\n",
       "    }\n",
       "</style>\n",
       "<table border=\"1\" class=\"dataframe\">\n",
       "  <thead>\n",
       "    <tr style=\"text-align: right;\">\n",
       "      <th></th>\n",
       "      <th>business</th>\n",
       "      <th>economics</th>\n",
       "      <th>money</th>\n",
       "      <th>tourism</th>\n",
       "      <th>shopping</th>\n",
       "      <th>leader</th>\n",
       "      <th>government</th>\n",
       "      <th>banking</th>\n",
       "      <th>hiking</th>\n",
       "      <th>digit_ratio</th>\n",
       "      <th>...</th>\n",
       "      <th>total_embedding_90</th>\n",
       "      <th>total_embedding_91</th>\n",
       "      <th>total_embedding_92</th>\n",
       "      <th>total_embedding_93</th>\n",
       "      <th>total_embedding_94</th>\n",
       "      <th>total_embedding_95</th>\n",
       "      <th>total_embedding_96</th>\n",
       "      <th>total_embedding_97</th>\n",
       "      <th>total_embedding_98</th>\n",
       "      <th>total_embedding_99</th>\n",
       "    </tr>\n",
       "  </thead>\n",
       "  <tbody>\n",
       "    <tr>\n",
       "      <th>5707</th>\n",
       "      <td>-0.409907</td>\n",
       "      <td>-0.443741</td>\n",
       "      <td>-0.430539</td>\n",
       "      <td>-0.346891</td>\n",
       "      <td>-0.346902</td>\n",
       "      <td>-0.361122</td>\n",
       "      <td>-0.409534</td>\n",
       "      <td>-0.394875</td>\n",
       "      <td>-0.250941</td>\n",
       "      <td>-0.479928</td>\n",
       "      <td>...</td>\n",
       "      <td>-0.581458</td>\n",
       "      <td>0.165146</td>\n",
       "      <td>0.299226</td>\n",
       "      <td>-0.406522</td>\n",
       "      <td>0.471968</td>\n",
       "      <td>0.040560</td>\n",
       "      <td>0.332775</td>\n",
       "      <td>0.508413</td>\n",
       "      <td>-0.388488</td>\n",
       "      <td>-0.633118</td>\n",
       "    </tr>\n",
       "    <tr>\n",
       "      <th>38275</th>\n",
       "      <td>-0.630539</td>\n",
       "      <td>-0.443741</td>\n",
       "      <td>-0.430539</td>\n",
       "      <td>-0.346891</td>\n",
       "      <td>-0.346902</td>\n",
       "      <td>-0.621236</td>\n",
       "      <td>-0.615398</td>\n",
       "      <td>-0.394875</td>\n",
       "      <td>-0.250941</td>\n",
       "      <td>1.202080</td>\n",
       "      <td>...</td>\n",
       "      <td>-0.392447</td>\n",
       "      <td>0.759544</td>\n",
       "      <td>0.805084</td>\n",
       "      <td>-0.757806</td>\n",
       "      <td>0.868212</td>\n",
       "      <td>-0.194755</td>\n",
       "      <td>0.781128</td>\n",
       "      <td>0.798376</td>\n",
       "      <td>-0.851656</td>\n",
       "      <td>-0.657634</td>\n",
       "    </tr>\n",
       "    <tr>\n",
       "      <th>17135</th>\n",
       "      <td>-0.409907</td>\n",
       "      <td>-0.443741</td>\n",
       "      <td>-0.430539</td>\n",
       "      <td>-0.346891</td>\n",
       "      <td>-0.346902</td>\n",
       "      <td>-0.101007</td>\n",
       "      <td>-0.409534</td>\n",
       "      <td>-0.394875</td>\n",
       "      <td>-0.250941</td>\n",
       "      <td>-0.330646</td>\n",
       "      <td>...</td>\n",
       "      <td>1.120246</td>\n",
       "      <td>-0.527049</td>\n",
       "      <td>-0.292402</td>\n",
       "      <td>0.991895</td>\n",
       "      <td>0.170212</td>\n",
       "      <td>1.097289</td>\n",
       "      <td>0.102927</td>\n",
       "      <td>0.127524</td>\n",
       "      <td>-0.065370</td>\n",
       "      <td>-0.435125</td>\n",
       "    </tr>\n",
       "    <tr>\n",
       "      <th>28153</th>\n",
       "      <td>1.796414</td>\n",
       "      <td>0.955507</td>\n",
       "      <td>0.062036</td>\n",
       "      <td>0.562883</td>\n",
       "      <td>0.917634</td>\n",
       "      <td>1.199565</td>\n",
       "      <td>2.678426</td>\n",
       "      <td>0.204044</td>\n",
       "      <td>-0.250941</td>\n",
       "      <td>-0.351122</td>\n",
       "      <td>...</td>\n",
       "      <td>1.627744</td>\n",
       "      <td>-1.656001</td>\n",
       "      <td>-1.984018</td>\n",
       "      <td>0.176401</td>\n",
       "      <td>-1.136712</td>\n",
       "      <td>1.186867</td>\n",
       "      <td>-0.507290</td>\n",
       "      <td>-0.641083</td>\n",
       "      <td>1.218008</td>\n",
       "      <td>-0.279511</td>\n",
       "    </tr>\n",
       "    <tr>\n",
       "      <th>13014</th>\n",
       "      <td>1.134518</td>\n",
       "      <td>0.489091</td>\n",
       "      <td>2.278624</td>\n",
       "      <td>3.292208</td>\n",
       "      <td>2.814438</td>\n",
       "      <td>4.581052</td>\n",
       "      <td>2.678426</td>\n",
       "      <td>1.102422</td>\n",
       "      <td>1.454291</td>\n",
       "      <td>0.088143</td>\n",
       "      <td>...</td>\n",
       "      <td>0.915869</td>\n",
       "      <td>-0.550798</td>\n",
       "      <td>-3.586727</td>\n",
       "      <td>2.259099</td>\n",
       "      <td>-2.927428</td>\n",
       "      <td>0.608248</td>\n",
       "      <td>-4.711948</td>\n",
       "      <td>-3.695820</td>\n",
       "      <td>2.816977</td>\n",
       "      <td>1.025335</td>\n",
       "    </tr>\n",
       "    <tr>\n",
       "      <th>...</th>\n",
       "      <td>...</td>\n",
       "      <td>...</td>\n",
       "      <td>...</td>\n",
       "      <td>...</td>\n",
       "      <td>...</td>\n",
       "      <td>...</td>\n",
       "      <td>...</td>\n",
       "      <td>...</td>\n",
       "      <td>...</td>\n",
       "      <td>...</td>\n",
       "      <td>...</td>\n",
       "      <td>...</td>\n",
       "      <td>...</td>\n",
       "      <td>...</td>\n",
       "      <td>...</td>\n",
       "      <td>...</td>\n",
       "      <td>...</td>\n",
       "      <td>...</td>\n",
       "      <td>...</td>\n",
       "      <td>...</td>\n",
       "      <td>...</td>\n",
       "    </tr>\n",
       "    <tr>\n",
       "      <th>6265</th>\n",
       "      <td>0.472621</td>\n",
       "      <td>0.022675</td>\n",
       "      <td>0.554611</td>\n",
       "      <td>-0.346891</td>\n",
       "      <td>-0.346902</td>\n",
       "      <td>-0.621236</td>\n",
       "      <td>-0.615398</td>\n",
       "      <td>0.503503</td>\n",
       "      <td>-0.250941</td>\n",
       "      <td>-0.527059</td>\n",
       "      <td>...</td>\n",
       "      <td>-0.347281</td>\n",
       "      <td>-0.020693</td>\n",
       "      <td>1.052114</td>\n",
       "      <td>-0.469572</td>\n",
       "      <td>0.270153</td>\n",
       "      <td>-0.639116</td>\n",
       "      <td>0.371098</td>\n",
       "      <td>0.188490</td>\n",
       "      <td>-0.529388</td>\n",
       "      <td>0.086041</td>\n",
       "    </tr>\n",
       "    <tr>\n",
       "      <th>11284</th>\n",
       "      <td>1.355150</td>\n",
       "      <td>1.888339</td>\n",
       "      <td>2.278624</td>\n",
       "      <td>-0.346891</td>\n",
       "      <td>0.285366</td>\n",
       "      <td>0.939450</td>\n",
       "      <td>2.060834</td>\n",
       "      <td>3.198639</td>\n",
       "      <td>-0.250941</td>\n",
       "      <td>-0.420923</td>\n",
       "      <td>...</td>\n",
       "      <td>1.009295</td>\n",
       "      <td>-1.792259</td>\n",
       "      <td>-1.369813</td>\n",
       "      <td>0.809102</td>\n",
       "      <td>-0.994842</td>\n",
       "      <td>3.669635</td>\n",
       "      <td>-0.704776</td>\n",
       "      <td>-1.529983</td>\n",
       "      <td>1.314350</td>\n",
       "      <td>2.041753</td>\n",
       "    </tr>\n",
       "    <tr>\n",
       "      <th>38158</th>\n",
       "      <td>-0.409907</td>\n",
       "      <td>-0.443741</td>\n",
       "      <td>0.062036</td>\n",
       "      <td>-0.346891</td>\n",
       "      <td>0.285366</td>\n",
       "      <td>-0.621236</td>\n",
       "      <td>-0.615398</td>\n",
       "      <td>-0.095416</td>\n",
       "      <td>-0.250941</td>\n",
       "      <td>-0.527059</td>\n",
       "      <td>...</td>\n",
       "      <td>-0.423755</td>\n",
       "      <td>0.794093</td>\n",
       "      <td>0.776797</td>\n",
       "      <td>-0.852988</td>\n",
       "      <td>0.872500</td>\n",
       "      <td>-0.171602</td>\n",
       "      <td>0.806898</td>\n",
       "      <td>0.788114</td>\n",
       "      <td>-0.886160</td>\n",
       "      <td>-0.630098</td>\n",
       "    </tr>\n",
       "    <tr>\n",
       "      <th>860</th>\n",
       "      <td>-0.630539</td>\n",
       "      <td>-0.443741</td>\n",
       "      <td>-0.184251</td>\n",
       "      <td>-0.346891</td>\n",
       "      <td>-0.346902</td>\n",
       "      <td>-0.361122</td>\n",
       "      <td>-0.615398</td>\n",
       "      <td>-0.394875</td>\n",
       "      <td>-0.250941</td>\n",
       "      <td>-0.527059</td>\n",
       "      <td>...</td>\n",
       "      <td>-0.174480</td>\n",
       "      <td>-0.127156</td>\n",
       "      <td>0.433671</td>\n",
       "      <td>-0.020524</td>\n",
       "      <td>0.233267</td>\n",
       "      <td>-0.746057</td>\n",
       "      <td>-0.012515</td>\n",
       "      <td>0.239605</td>\n",
       "      <td>-0.354118</td>\n",
       "      <td>-0.032658</td>\n",
       "    </tr>\n",
       "    <tr>\n",
       "      <th>15795</th>\n",
       "      <td>1.355150</td>\n",
       "      <td>0.255883</td>\n",
       "      <td>-0.184251</td>\n",
       "      <td>0.562883</td>\n",
       "      <td>-0.346902</td>\n",
       "      <td>2.760251</td>\n",
       "      <td>2.678426</td>\n",
       "      <td>0.802963</td>\n",
       "      <td>-0.250941</td>\n",
       "      <td>-0.467562</td>\n",
       "      <td>...</td>\n",
       "      <td>-0.141399</td>\n",
       "      <td>-1.027755</td>\n",
       "      <td>-1.214202</td>\n",
       "      <td>-0.009157</td>\n",
       "      <td>-1.107188</td>\n",
       "      <td>0.914860</td>\n",
       "      <td>-1.504040</td>\n",
       "      <td>-1.804925</td>\n",
       "      <td>1.908131</td>\n",
       "      <td>0.158594</td>\n",
       "    </tr>\n",
       "  </tbody>\n",
       "</table>\n",
       "<p>42702 rows × 327 columns</p>\n",
       "</div>"
      ],
      "text/plain": [
       "       business  economics     money   tourism  shopping    leader  \\\n",
       "5707  -0.409907  -0.443741 -0.430539 -0.346891 -0.346902 -0.361122   \n",
       "38275 -0.630539  -0.443741 -0.430539 -0.346891 -0.346902 -0.621236   \n",
       "17135 -0.409907  -0.443741 -0.430539 -0.346891 -0.346902 -0.101007   \n",
       "28153  1.796414   0.955507  0.062036  0.562883  0.917634  1.199565   \n",
       "13014  1.134518   0.489091  2.278624  3.292208  2.814438  4.581052   \n",
       "...         ...        ...       ...       ...       ...       ...   \n",
       "6265   0.472621   0.022675  0.554611 -0.346891 -0.346902 -0.621236   \n",
       "11284  1.355150   1.888339  2.278624 -0.346891  0.285366  0.939450   \n",
       "38158 -0.409907  -0.443741  0.062036 -0.346891  0.285366 -0.621236   \n",
       "860   -0.630539  -0.443741 -0.184251 -0.346891 -0.346902 -0.361122   \n",
       "15795  1.355150   0.255883 -0.184251  0.562883 -0.346902  2.760251   \n",
       "\n",
       "       government   banking    hiking  digit_ratio  ...  total_embedding_90  \\\n",
       "5707    -0.409534 -0.394875 -0.250941    -0.479928  ...           -0.581458   \n",
       "38275   -0.615398 -0.394875 -0.250941     1.202080  ...           -0.392447   \n",
       "17135   -0.409534 -0.394875 -0.250941    -0.330646  ...            1.120246   \n",
       "28153    2.678426  0.204044 -0.250941    -0.351122  ...            1.627744   \n",
       "13014    2.678426  1.102422  1.454291     0.088143  ...            0.915869   \n",
       "...           ...       ...       ...          ...  ...                 ...   \n",
       "6265    -0.615398  0.503503 -0.250941    -0.527059  ...           -0.347281   \n",
       "11284    2.060834  3.198639 -0.250941    -0.420923  ...            1.009295   \n",
       "38158   -0.615398 -0.095416 -0.250941    -0.527059  ...           -0.423755   \n",
       "860     -0.615398 -0.394875 -0.250941    -0.527059  ...           -0.174480   \n",
       "15795    2.678426  0.802963 -0.250941    -0.467562  ...           -0.141399   \n",
       "\n",
       "       total_embedding_91  total_embedding_92  total_embedding_93  \\\n",
       "5707             0.165146            0.299226           -0.406522   \n",
       "38275            0.759544            0.805084           -0.757806   \n",
       "17135           -0.527049           -0.292402            0.991895   \n",
       "28153           -1.656001           -1.984018            0.176401   \n",
       "13014           -0.550798           -3.586727            2.259099   \n",
       "...                   ...                 ...                 ...   \n",
       "6265            -0.020693            1.052114           -0.469572   \n",
       "11284           -1.792259           -1.369813            0.809102   \n",
       "38158            0.794093            0.776797           -0.852988   \n",
       "860             -0.127156            0.433671           -0.020524   \n",
       "15795           -1.027755           -1.214202           -0.009157   \n",
       "\n",
       "       total_embedding_94  total_embedding_95  total_embedding_96  \\\n",
       "5707             0.471968            0.040560            0.332775   \n",
       "38275            0.868212           -0.194755            0.781128   \n",
       "17135            0.170212            1.097289            0.102927   \n",
       "28153           -1.136712            1.186867           -0.507290   \n",
       "13014           -2.927428            0.608248           -4.711948   \n",
       "...                   ...                 ...                 ...   \n",
       "6265             0.270153           -0.639116            0.371098   \n",
       "11284           -0.994842            3.669635           -0.704776   \n",
       "38158            0.872500           -0.171602            0.806898   \n",
       "860              0.233267           -0.746057           -0.012515   \n",
       "15795           -1.107188            0.914860           -1.504040   \n",
       "\n",
       "       total_embedding_97  total_embedding_98  total_embedding_99  \n",
       "5707             0.508413           -0.388488           -0.633118  \n",
       "38275            0.798376           -0.851656           -0.657634  \n",
       "17135            0.127524           -0.065370           -0.435125  \n",
       "28153           -0.641083            1.218008           -0.279511  \n",
       "13014           -3.695820            2.816977            1.025335  \n",
       "...                   ...                 ...                 ...  \n",
       "6265             0.188490           -0.529388            0.086041  \n",
       "11284           -1.529983            1.314350            2.041753  \n",
       "38158            0.788114           -0.886160           -0.630098  \n",
       "860              0.239605           -0.354118           -0.032658  \n",
       "15795           -1.804925            1.908131            0.158594  \n",
       "\n",
       "[42702 rows x 327 columns]"
      ]
     },
     "execution_count": 19,
     "metadata": {},
     "output_type": "execute_result"
    }
   ],
   "source": [
    "# randomise the data, need a restorable state\n",
    "\n",
    "feature_df[\"Label\"] = training_df[\"Label\"]\n",
    "\n",
    "feature_df = feature_df.sample(frac=1, random_state=42)\n",
    "\n",
    "training_labels = feature_df[\"Label\"]\n",
    "feature_df.drop(columns=[\"Label\"], inplace=True)\n",
    "\n",
    "feature_df"
   ]
  },
  {
   "cell_type": "markdown",
   "metadata": {},
   "source": [
    "## Model Training"
   ]
  },
  {
   "cell_type": "markdown",
   "metadata": {},
   "source": [
    "### Logistic Regression"
   ]
  },
  {
   "cell_type": "code",
   "execution_count": 21,
   "metadata": {},
   "outputs": [
    {
     "name": "stdout",
     "output_type": "stream",
     "text": [
      "Cross validation macro-averaged F1-score: [0.89961358 0.9082364  0.90392635 0.90253436 0.90252025]\n",
      "Mean macro-averaged F1-score 0.903366186253859\n",
      "Test macro-averaged F1-score: 0.9774656054981723\n"
     ]
    }
   ],
   "source": [
    "# Train a logistic regression model\n",
    "from sklearn.linear_model import LogisticRegression\n",
    "from sklearn.metrics import f1_score\n",
    "\n",
    "X_train, y_train = feature_df, training_labels\n",
    "\n",
    "logistic_model = LogisticRegression(random_state=42, C=1, max_iter=500)\n",
    "\n",
    "logistic_model.fit(X_train, y_train)\n",
    "\n",
    "# evaluate the model\n",
    "\n",
    "# use k-fold cross validation\n",
    "from sklearn.model_selection import cross_val_score\n",
    "\n",
    "scores = cross_val_score(logistic_model, X_train, y_train, cv=5, scoring=\"f1_macro\")\n",
    "\n",
    "print(\"Cross validation macro-averaged F1-score:\", scores)\n",
    "print(\"Mean macro-averaged F1-score\", np.average(scores))\n",
    "\n",
    "# evaluate the F1-score on the testing set\n",
    "y_pred = logistic_model.predict(X_test)\n",
    "\n",
    "# compute the F1-score\n",
    "test_f1_score = f1_score(testing_df[\"Label\"], y_pred, average=\"macro\")\n",
    "print(\"Test macro-averaged F1-score:\", test_f1_score)"
   ]
  }
 ],
 "metadata": {
  "kernelspec": {
   "display_name": "Python 3",
   "language": "python",
   "name": "python3"
  },
  "language_info": {
   "codemirror_mode": {
    "name": "ipython",
    "version": 3
   },
   "file_extension": ".py",
   "mimetype": "text/x-python",
   "name": "python",
   "nbconvert_exporter": "python",
   "pygments_lexer": "ipython3",
   "version": "3.12.1"
  }
 },
 "nbformat": 4,
 "nbformat_minor": 2
}

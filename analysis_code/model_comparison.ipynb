{
 "cells": [
  {
   "cell_type": "code",
   "execution_count": 1,
   "metadata": {},
   "outputs": [
    {
     "data": {
      "text/plain": [
       "((506545, 161), (101309, 161))"
      ]
     },
     "execution_count": 1,
     "metadata": {},
     "output_type": "execute_result"
    }
   ],
   "source": [
    "# Load the extracted features\n",
    "import pandas as pd\n",
    "\n",
    "training_data = pd.read_csv(\"./dataset/features/data_original/train_features0.csv\")\n",
    "testing_data = pd.read_csv(\"./dataset/features/data_original/test_features0.csv\")\n",
    "\n",
    "training_data.shape, testing_data.shape"
   ]
  },
  {
   "cell_type": "code",
   "execution_count": 3,
   "metadata": {},
   "outputs": [
    {
     "data": {
      "text/plain": [
       "((506545, 160), (101309, 160))"
      ]
     },
     "execution_count": 3,
     "metadata": {},
     "output_type": "execute_result"
    }
   ],
   "source": [
    "# randomize the data\n",
    "\n",
    "training_data = training_data.sample(frac=1).reset_index(drop=True)\n",
    "testing_data = testing_data.sample(frac=1).reset_index(drop=True)\n",
    "\n",
    "# train-test split\n",
    "training_features, training_labels = training_data.drop(\"Label\", axis=1), training_data[\"Label\"]\n",
    "testing_features, testing_labels = testing_data.drop(\"Label\", axis=1), testing_data[\"Label\"]\n",
    "\n",
    "training_features.shape, testing_features.shape"
   ]
  },
  {
   "cell_type": "code",
   "execution_count": 4,
   "metadata": {},
   "outputs": [
    {
     "data": {
      "text/plain": [
       "((506545, 8), (506545, 152), (101309, 8), (101309, 152))"
      ]
     },
     "execution_count": 4,
     "metadata": {},
     "output_type": "execute_result"
    }
   ],
   "source": [
    "# separate BERT features from the rest\n",
    "training_bert_features = training_features.filter(regex=\"^BERT\")\n",
    "training_features_no_bert = training_features.drop(columns=training_bert_features.columns)\n",
    "\n",
    "testing_bert_features = testing_features.filter(regex=\"^BERT\")\n",
    "testing_features_no_bert = testing_features.drop(columns=testing_bert_features.columns)\n",
    "\n",
    "training_bert_features.shape, training_features_no_bert.shape, testing_bert_features.shape, testing_features_no_bert.shape"
   ]
  },
  {
   "cell_type": "code",
   "execution_count": 10,
   "metadata": {},
   "outputs": [
    {
     "data": {
      "text/plain": [
       "(Label\n",
       " 1    361178\n",
       " 0    145367\n",
       " Name: count, dtype: int64,\n",
       " Label\n",
       " 1    72236\n",
       " 0    29073\n",
       " Name: count, dtype: int64)"
      ]
     },
     "execution_count": 10,
     "metadata": {},
     "output_type": "execute_result"
    }
   ],
   "source": [
    "training_labels.value_counts(), testing_labels.value_counts()"
   ]
  },
  {
   "cell_type": "code",
   "execution_count": 17,
   "metadata": {},
   "outputs": [
    {
     "name": "stdout",
     "output_type": "stream",
     "text": [
      "0.7776247813656241\n",
      "With all features:\n",
      "              precision    recall  f1-score   support\n",
      "\n",
      "           0       0.75      0.60      0.67     29073\n",
      "           1       0.85      0.92      0.88     72236\n",
      "\n",
      "    accuracy                           0.83    101309\n",
      "   macro avg       0.80      0.76      0.78    101309\n",
      "weighted avg       0.82      0.83      0.82    101309\n",
      "\n",
      "Without BERT features:\n",
      "              precision    recall  f1-score   support\n",
      "\n",
      "           0       0.75      0.60      0.67     29073\n",
      "           1       0.85      0.92      0.88     72236\n",
      "\n",
      "    accuracy                           0.83    101309\n",
      "   macro avg       0.80      0.76      0.78    101309\n",
      "weighted avg       0.82      0.83      0.82    101309\n",
      "\n",
      "[     0 101309]\n",
      "With only BERT features:\n",
      "              precision    recall  f1-score   support\n",
      "\n",
      "           0       0.00      0.00      0.00     29073\n",
      "           1       0.71      1.00      0.83     72236\n",
      "\n",
      "    accuracy                           0.71    101309\n",
      "   macro avg       0.36      0.50      0.42    101309\n",
      "weighted avg       0.51      0.71      0.59    101309\n",
      "\n"
     ]
    },
    {
     "name": "stderr",
     "output_type": "stream",
     "text": [
      "c:\\Users\\tryyang\\AppData\\Local\\Programs\\Python\\Python312\\Lib\\site-packages\\sklearn\\metrics\\_classification.py:1509: UndefinedMetricWarning: Precision is ill-defined and being set to 0.0 in labels with no predicted samples. Use `zero_division` parameter to control this behavior.\n",
      "  _warn_prf(average, modifier, f\"{metric.capitalize()} is\", len(result))\n",
      "c:\\Users\\tryyang\\AppData\\Local\\Programs\\Python\\Python312\\Lib\\site-packages\\sklearn\\metrics\\_classification.py:1509: UndefinedMetricWarning: Precision is ill-defined and being set to 0.0 in labels with no predicted samples. Use `zero_division` parameter to control this behavior.\n",
      "  _warn_prf(average, modifier, f\"{metric.capitalize()} is\", len(result))\n",
      "c:\\Users\\tryyang\\AppData\\Local\\Programs\\Python\\Python312\\Lib\\site-packages\\sklearn\\metrics\\_classification.py:1509: UndefinedMetricWarning: Precision is ill-defined and being set to 0.0 in labels with no predicted samples. Use `zero_division` parameter to control this behavior.\n",
      "  _warn_prf(average, modifier, f\"{metric.capitalize()} is\", len(result))\n"
     ]
    }
   ],
   "source": [
    "# train a logistic regression model\n",
    "from sklearn.linear_model import LogisticRegression\n",
    "from sklearn.metrics import classification_report, f1_score\n",
    "from sklearn.model_selection import cross_val_score\n",
    "import numpy as np\n",
    "\n",
    "logistic_regression = LogisticRegression(max_iter=1000, random_state=4248)\n",
    "logistic_regression.fit(training_features, training_labels)\n",
    "\n",
    "# cross validation\n",
    "# mean_cv_score = cross_val_score(logistic_regression, training_features, training_labels, cv=5, scoring=\"f1_macro\").mean()\n",
    "# print(f\"Mean Cross Validation Score: {mean_cv_score}\")\n",
    "\n",
    "# evaluate the model\n",
    "predicted_labels = logistic_regression.predict(testing_features)\n",
    "\n",
    "# print f1-score\n",
    "print(f1_score(testing_labels, predicted_labels, average=\"macro\"))\n",
    "\n",
    "# print the classification report\n",
    "print(\"With all features:\")\n",
    "print(classification_report(testing_labels, predicted_labels))\n",
    "\n",
    "# without BERT features\n",
    "logistic_regression_no_bert = LogisticRegression(max_iter=1000, random_state=4248)\n",
    "logistic_regression_no_bert.fit(training_features_no_bert, training_labels)\n",
    "\n",
    "# evaluate the model\n",
    "predicted_labels_no_bert = logistic_regression_no_bert.predict(testing_features_no_bert)\n",
    "\n",
    "# print the classification report\n",
    "print(\"Without BERT features:\")\n",
    "print(classification_report(testing_labels, predicted_labels_no_bert))\n",
    "\n",
    "# with only BERT features\n",
    "logistic_regression_bert = LogisticRegression(max_iter=1000, random_state=4248)\n",
    "logistic_regression_bert.fit(training_bert_features, training_labels)\n",
    "\n",
    "# evaluate the model\n",
    "predicted_labels_bert = logistic_regression_bert.predict(testing_bert_features)\n",
    "\n",
    "print(np.bincount(predicted_labels_bert))\n",
    "\n",
    "# print the classification report\n",
    "print(\"With only BERT features:\")\n",
    "print(classification_report(testing_labels, predicted_labels_bert))\n"
   ]
  },
  {
   "cell_type": "code",
   "execution_count": 15,
   "metadata": {},
   "outputs": [
    {
     "name": "stdout",
     "output_type": "stream",
     "text": [
      "With all features:\n",
      "              precision    recall  f1-score   support\n",
      "\n",
      "           0       0.81      0.72      0.76     29073\n",
      "           1       0.89      0.93      0.91     72236\n",
      "\n",
      "    accuracy                           0.87    101309\n",
      "   macro avg       0.85      0.83      0.84    101309\n",
      "weighted avg       0.87      0.87      0.87    101309\n",
      "\n",
      "Without BERT features:\n",
      "              precision    recall  f1-score   support\n",
      "\n",
      "           0       0.81      0.73      0.77     29073\n",
      "           1       0.90      0.93      0.91     72236\n",
      "\n",
      "    accuracy                           0.87    101309\n",
      "   macro avg       0.86      0.83      0.84    101309\n",
      "weighted avg       0.87      0.87      0.87    101309\n",
      "\n",
      "[14902 86407]\n",
      "With only BERT features:\n",
      "              precision    recall  f1-score   support\n",
      "\n",
      "           0       0.29      0.15      0.19     29073\n",
      "           1       0.71      0.85      0.78     72236\n",
      "\n",
      "    accuracy                           0.65    101309\n",
      "   macro avg       0.50      0.50      0.49    101309\n",
      "weighted avg       0.59      0.65      0.61    101309\n",
      "\n"
     ]
    }
   ],
   "source": [
    "# knn\n",
    "from sklearn.neighbors import KNeighborsClassifier\n",
    "\n",
    "knn = KNeighborsClassifier(n_neighbors=5)\n",
    "\n",
    "knn.fit(training_features, training_labels)\n",
    "\n",
    "# evaluate the model\n",
    "predicted_labels_knn = knn.predict(testing_features)    \n",
    "\n",
    "# print the classification report\n",
    "print(\"With all features:\")\n",
    "print(classification_report(testing_labels, predicted_labels_knn))\n",
    "\n",
    "# without BERT features\n",
    "knn_no_bert = KNeighborsClassifier(n_neighbors=5)\n",
    "\n",
    "knn_no_bert.fit(training_features_no_bert, training_labels)\n",
    "\n",
    "# evaluate the model\n",
    "predicted_labels_knn_no_bert = knn_no_bert.predict(testing_features_no_bert)\n",
    "\n",
    "# print the classification report\n",
    "print(\"Without BERT features:\")\n",
    "print(classification_report(testing_labels, predicted_labels_knn_no_bert))\n",
    "\n",
    "# with only BERT features\n",
    "knn_bert = KNeighborsClassifier(n_neighbors=5)\n",
    "knn_bert.fit(training_bert_features, training_labels)\n",
    "\n",
    "# evaluate the model\n",
    "predicted_labels_knn_bert = knn_bert.predict(testing_bert_features)\n",
    "print(np.bincount(predicted_labels_knn_bert))\n",
    "\n",
    "# print the classification report\n",
    "print(\"With only BERT features:\")\n",
    "print(classification_report(testing_labels, predicted_labels_knn_bert))"
   ]
  },
  {
   "cell_type": "code",
   "execution_count": 16,
   "metadata": {},
   "outputs": [
    {
     "name": "stdout",
     "output_type": "stream",
     "text": [
      "With all features:\n",
      "              precision    recall  f1-score   support\n",
      "\n",
      "           0       0.71      0.06      0.11     29073\n",
      "           1       0.72      0.99      0.84     72236\n",
      "\n",
      "    accuracy                           0.72    101309\n",
      "   macro avg       0.71      0.52      0.47    101309\n",
      "weighted avg       0.72      0.72      0.63    101309\n",
      "\n",
      "Without BERT features:\n",
      "              precision    recall  f1-score   support\n",
      "\n",
      "           0       0.71      0.06      0.11     29073\n",
      "           1       0.72      0.99      0.84     72236\n",
      "\n",
      "    accuracy                           0.72    101309\n",
      "   macro avg       0.71      0.52      0.47    101309\n",
      "weighted avg       0.72      0.72      0.63    101309\n",
      "\n",
      "[     0 101309]\n",
      "With only BERT features:\n",
      "              precision    recall  f1-score   support\n",
      "\n",
      "           0       0.00      0.00      0.00     29073\n",
      "           1       0.71      1.00      0.83     72236\n",
      "\n",
      "    accuracy                           0.71    101309\n",
      "   macro avg       0.36      0.50      0.42    101309\n",
      "weighted avg       0.51      0.71      0.59    101309\n",
      "\n"
     ]
    },
    {
     "name": "stderr",
     "output_type": "stream",
     "text": [
      "c:\\Users\\tryyang\\AppData\\Local\\Programs\\Python\\Python312\\Lib\\site-packages\\sklearn\\metrics\\_classification.py:1509: UndefinedMetricWarning: Precision is ill-defined and being set to 0.0 in labels with no predicted samples. Use `zero_division` parameter to control this behavior.\n",
      "  _warn_prf(average, modifier, f\"{metric.capitalize()} is\", len(result))\n",
      "c:\\Users\\tryyang\\AppData\\Local\\Programs\\Python\\Python312\\Lib\\site-packages\\sklearn\\metrics\\_classification.py:1509: UndefinedMetricWarning: Precision is ill-defined and being set to 0.0 in labels with no predicted samples. Use `zero_division` parameter to control this behavior.\n",
      "  _warn_prf(average, modifier, f\"{metric.capitalize()} is\", len(result))\n",
      "c:\\Users\\tryyang\\AppData\\Local\\Programs\\Python\\Python312\\Lib\\site-packages\\sklearn\\metrics\\_classification.py:1509: UndefinedMetricWarning: Precision is ill-defined and being set to 0.0 in labels with no predicted samples. Use `zero_division` parameter to control this behavior.\n",
      "  _warn_prf(average, modifier, f\"{metric.capitalize()} is\", len(result))\n"
     ]
    }
   ],
   "source": [
    "# naive bayes\n",
    "from sklearn.naive_bayes import MultinomialNB\n",
    "\n",
    "# min-max scale the features as multinomial naive bayes requires non-negative values\n",
    "from sklearn.preprocessing import MinMaxScaler\n",
    "\n",
    "scaler = MinMaxScaler()\n",
    "\n",
    "scaled_training_features = scaler.fit_transform(training_features)\n",
    "scaled_testing_features = scaler.transform(testing_features)\n",
    "\n",
    "naive_bayes = MultinomialNB()\n",
    "\n",
    "naive_bayes.fit(scaled_training_features, training_labels)\n",
    "\n",
    "# evaluate the model\n",
    "predicted_labels_naive_bayes = naive_bayes.predict(scaled_testing_features)\n",
    "\n",
    "# print the classification report\n",
    "print(\"With all features:\")\n",
    "print(classification_report(testing_labels, predicted_labels_naive_bayes))\n",
    "\n",
    "# without BERT features\n",
    "scaled_training_features_no_bert = scaler.fit_transform(training_features_no_bert)\n",
    "scaled_testing_features_no_bert = scaler.transform(testing_features_no_bert)\n",
    "\n",
    "naive_bayes_no_bert = MultinomialNB()\n",
    "\n",
    "naive_bayes_no_bert.fit(scaled_training_features_no_bert, training_labels)\n",
    "\n",
    "# evaluate the model\n",
    "predicted_labels_naive_bayes_no_bert = naive_bayes_no_bert.predict(scaled_testing_features_no_bert)\n",
    "\n",
    "# print the classification report\n",
    "print(\"Without BERT features:\")\n",
    "print(classification_report(testing_labels, predicted_labels_naive_bayes_no_bert))\n",
    "\n",
    "# with only BERT features\n",
    "scaled_training_bert_features = scaler.fit_transform(training_bert_features)\n",
    "\n",
    "scaled_testing_bert_features = scaler.transform(testing_bert_features)\n",
    "\n",
    "naive_bayes_bert = MultinomialNB()\n",
    "\n",
    "naive_bayes_bert.fit(scaled_training_bert_features, training_labels)\n",
    "\n",
    "# evaluate the model\n",
    "predicted_labels_naive_bayes_bert = naive_bayes_bert.predict(scaled_testing_bert_features)\n",
    "print(np.bincount(predicted_labels_naive_bayes_bert))\n",
    "\n",
    "# print the classification report\n",
    "print(\"With only BERT features:\")\n",
    "print(classification_report(testing_labels, predicted_labels_naive_bayes_bert))"
   ]
  },
  {
   "cell_type": "code",
   "execution_count": 8,
   "metadata": {},
   "outputs": [
    {
     "name": "stdout",
     "output_type": "stream",
     "text": [
      "With all features:\n",
      "              precision    recall  f1-score   support\n",
      "\n",
      "           0       0.87      0.78      0.82     29073\n",
      "           1       0.91      0.95      0.93     72236\n",
      "\n",
      "    accuracy                           0.90    101309\n",
      "   macro avg       0.89      0.87      0.88    101309\n",
      "weighted avg       0.90      0.90      0.90    101309\n",
      "\n"
     ]
    }
   ],
   "source": [
    "# svc\n",
    "from sklearn.svm import SVC\n",
    "\n",
    "svc = SVC()\n",
    "\n",
    "svc.fit(training_features, training_labels)\n",
    "\n",
    "# evaluate the model\n",
    "predicted_labels_svc = svc.predict(testing_features)\n",
    "\n",
    "# print the classification report\n",
    "print(\"With all features:\")\n",
    "print(classification_report(testing_labels, predicted_labels_svc))\n",
    "\n",
    "# # without BERT features\n",
    "# svc_no_bert = SVC()\n",
    "\n",
    "# svc_no_bert.fit(training_features_no_bert, training_labels)\n",
    "\n",
    "# # evaluate the model\n",
    "# predicted_labels_svc_no_bert = svc_no_bert.predict(testing_features_no_bert)\n",
    "\n",
    "# # print the classification report\n",
    "# print(\"Without BERT features:\")\n",
    "# print(classification_report(testing_labels, predicted_labels_svc_no_bert))"
   ]
  },
  {
   "cell_type": "code",
   "execution_count": 10,
   "metadata": {},
   "outputs": [
    {
     "data": {
      "text/plain": [
       "['./dataset/models/svc_model.pkl']"
      ]
     },
     "execution_count": 10,
     "metadata": {},
     "output_type": "execute_result"
    }
   ],
   "source": [
    "# save the SVC model\n",
    "import joblib\n",
    "\n",
    "joblib.dump(svc, \"./dataset/models/svc_model.pkl\")"
   ]
  }
 ],
 "metadata": {
  "kernelspec": {
   "display_name": "Python 3",
   "language": "python",
   "name": "python3"
  },
  "language_info": {
   "codemirror_mode": {
    "name": "ipython",
    "version": 3
   },
   "file_extension": ".py",
   "mimetype": "text/x-python",
   "name": "python",
   "nbconvert_exporter": "python",
   "pygments_lexer": "ipython3",
   "version": "3.12.1"
  }
 },
 "nbformat": 4,
 "nbformat_minor": 2
}
